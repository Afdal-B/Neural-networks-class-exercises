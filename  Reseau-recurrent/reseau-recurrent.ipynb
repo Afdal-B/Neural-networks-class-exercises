{
 "cells": [
  {
   "cell_type": "markdown",
   "metadata": {},
   "source": [
    "### **COMPORTEMENT DYNAMIQUE D'UN RÉSEAU RECURRENT**"
   ]
  },
  {
   "cell_type": "markdown",
   "metadata": {},
   "source": [
    "#### **Données**"
   ]
  },
  {
   "cell_type": "code",
   "execution_count": 39,
   "metadata": {},
   "outputs": [],
   "source": [
    "from numpy import array,random,triu"
   ]
  },
  {
   "cell_type": "code",
   "execution_count": 19,
   "metadata": {},
   "outputs": [],
   "source": [
    "matrice_poids = [[0, -1, 1, 1],\n",
    "                 [-1, 0, 1, -1],\n",
    "                 [1, 1, 0, 1],\n",
    "                 [1, -1, 1, 0]]\n",
    "states = [[0,0,0,0], [0,0,0,1], [0,0,1,0], [0,0,1,1],\n",
    "           [0,1,0,0], [0,1,0,1], [0,1,1,0], [0,1,1,1],\n",
    "           [1,0,0,0], [1,0,0,1], [1,0,1,0], [1,0,1,1],\n",
    "           [1,1,0,0], [1,1,0,1], [1,1,1,0], [1,1,1,1]]\n",
    "\n",
    "f_activation = lambda x: 1 if x > 0 else 0\n",
    "\n",
    "# on part de la config \"0\" :\n",
    "\n",
    "initial_state = [0, 0, 0, 0]\n",
    "\n",
    "# testons la cellule \"a\" aka \"cellule 0\" :\n",
    "\n",
    "cellule=0\n"
   ]
  },
  {
   "cell_type": "code",
   "execution_count": 37,
   "metadata": {},
   "outputs": [],
   "source": [
    "# fonction qui passe d'un entier au vecteur contenant la sequence de bits correspondante\n",
    "def int_vers_binvec (x,nb_bits) :\n",
    "  tmp = f'{bin(x):>{nb_bits+2}}'.replace(\"0b\", \"\").replace(\" \", \"0\")\n",
    "  config = array ([0 for _ in range(nb_bits)])\n",
    "  for cellule in range(nb_bits) :\n",
    "   config[cellule]=int(tmp[cellule])\n",
    "  return config\n",
    "\n",
    "# fonction qui passe d'un vecteur contenant une sequence de bits a l'entier correspondant\n",
    "def binvec_vers_int (config): \n",
    "  x = \"0b\"\n",
    "  for i in range(len(config)):\n",
    "    x += str(config[i])\n",
    "  return int(x, 2)\n",
    "  "
   ]
  },
  {
   "cell_type": "code",
   "execution_count": 38,
   "metadata": {},
   "outputs": [
    {
     "data": {
      "text/plain": [
       "array([1, 1, 1, 1, 1, 1, 1, 1, 1, 1])"
      ]
     },
     "execution_count": 38,
     "metadata": {},
     "output_type": "execute_result"
    }
   ],
   "source": [
    "int_vers_binvec(1023,10)"
   ]
  },
  {
   "cell_type": "markdown",
   "metadata": {},
   "source": [
    "#### **La classe reseau recurrent**"
   ]
  },
  {
   "cell_type": "code",
   "execution_count": 22,
   "metadata": {},
   "outputs": [],
   "source": [
    "# La classe reseau recurrent \n",
    "class ReseauRecurrent:\n",
    "    def __init__(self,matrice) -> None:\n",
    "        self.matrice = matrice\n",
    "    \n",
    "    # Une fonction qui retourne l'état résultant d'un influ synchrone en partant d'un état\n",
    "    def influ_synchrone(self,state):\n",
    "        # On initialise une liste [0,0,....] pour le nouvel état  \n",
    "        new_state = [0]*len(state)\n",
    "        #On calcule les nouvelles valeurs pour cet état\n",
    "        for i in range (len(state)):\n",
    "           s = 0\n",
    "           for j in range(len(state)):\n",
    "              s += self.matrice[j][i]*state[j]\n",
    "           new_state[i]=f_activation(s)\n",
    "        \n",
    "        return new_state\n",
    "\n",
    "    # Une fonction qui retourne l'état résultant d'un influ asynchrone en partant d'un état\n",
    "\n",
    "    def influ_asynchrone(self,state):\n",
    "        for i in range (len(state)):\n",
    "          s = 0\n",
    "          for j in range(len(state)):\n",
    "              s+= self.matrice[j][i]*state[j]\n",
    "          state[i] = f_activation(s)\n",
    "        return state\n",
    "    \n",
    "    # Une fonction qui prend en paramètre l'état initial du réseau et affiche son évolution\n",
    "    def evolution(self,state,synchrone = True):\n",
    "        # une liste qui contiendra l'état précédent,actuel et suivant\n",
    "        p_a_s =[[],[],state[:]]\n",
    "        new_state = state[:]\n",
    "        print(f\"=============INITIAL STATE {state} =============\\n\")\n",
    "        print(f\"{state}\",end=\" => \")\n",
    "        while True:\n",
    "            # Si synchrone est True, alors les influs sont synchrones\n",
    "            if(synchrone):\n",
    "                new_state=self.influ_synchrone(new_state)\n",
    "            # Sinon, asynchone\n",
    "            else:\n",
    "                new_state=self.influ_asynchrone(new_state)\n",
    "            p_a_s.append(new_state)\n",
    "            p_a_s.pop(0)\n",
    "            # Etat stable , l'état actuelle et le suivant sont les mêmes \n",
    "            if(p_a_s[1]==p_a_s[2]):\n",
    "                print(f\"Etat stable {p_a_s[1]} \\n\")\n",
    "                break\n",
    "            # Y a un cycle si l'état suivant notre état actuel est le même que son état précédent\n",
    "            elif(p_a_s[0]==p_a_s[2]):\n",
    "                print(f\"Nous avons un cycle {p_a_s[0]} => {p_a_s[1]} => {p_a_s[2]}\\n\")\n",
    "                break\n",
    "            else:\n",
    "                print(new_state, end=\" => \")\n",
    "\n",
    "\n",
    "\n",
    "\n"
   ]
  },
  {
   "cell_type": "markdown",
   "metadata": {},
   "source": [
    "#### **Tests**"
   ]
  },
  {
   "cell_type": "code",
   "execution_count": 23,
   "metadata": {},
   "outputs": [
    {
     "name": "stdout",
     "output_type": "stream",
     "text": [
      "[0, 0, 1, 0]\n",
      "[1, 1, 0, 1]\n",
      "[0, 0, 1, 1]\n"
     ]
    }
   ],
   "source": [
    "# Test sur quelques états \n",
    "reseau_recurent = ReseauRecurrent(matrice=matrice_poids)\n",
    "print(reseau_recurent.influ_synchrone([1,1,0,1]))\n",
    "print(reseau_recurent.influ_synchrone([0,0,1,0]))\n",
    "print(reseau_recurent.influ_asynchrone([1,1,0,1]))"
   ]
  },
  {
   "cell_type": "markdown",
   "metadata": {},
   "source": [
    "#### **EVOLUTION DU RESEAU EN PARTANT D'UN ETAT INITIAL DONNÉ**"
   ]
  },
  {
   "cell_type": "markdown",
   "metadata": {},
   "source": [
    "##### Evolution à partir d'un état initial"
   ]
  },
  {
   "cell_type": "code",
   "execution_count": 24,
   "metadata": {},
   "outputs": [
    {
     "name": "stdout",
     "output_type": "stream",
     "text": [
      "=============INITIAL STATE [1, 0, 1, 0] =============\n",
      "\n",
      "[1, 0, 1, 0] => [1, 0, 1, 1] => Etat stable [1, 0, 1, 1] \n",
      "\n"
     ]
    }
   ],
   "source": [
    "reseau_recurent.evolution(initial_state)"
   ]
  },
  {
   "cell_type": "markdown",
   "metadata": {},
   "source": [
    "##### Evolutions en partant de tous les etats initials possibles"
   ]
  },
  {
   "cell_type": "code",
   "execution_count": 25,
   "metadata": {},
   "outputs": [
    {
     "name": "stdout",
     "output_type": "stream",
     "text": [
      "=============INITIAL STATE [0, 0, 0, 0] =============\n",
      "\n",
      "[0, 0, 0, 0] => Etat stable [0, 0, 0, 0] \n",
      "\n",
      "=============INITIAL STATE [0, 0, 0, 1] =============\n",
      "\n",
      "[0, 0, 0, 1] => [1, 0, 1, 0] => [1, 0, 1, 1] => Etat stable [1, 0, 1, 1] \n",
      "\n",
      "=============INITIAL STATE [0, 0, 1, 0] =============\n",
      "\n",
      "[0, 0, 1, 0] => [1, 1, 0, 1] => Nous avons un cycle [0, 0, 1, 0] => [1, 1, 0, 1] => [0, 0, 1, 0]\n",
      "\n",
      "=============INITIAL STATE [0, 0, 1, 1] =============\n",
      "\n",
      "[0, 0, 1, 1] => [1, 0, 1, 1] => Etat stable [1, 0, 1, 1] \n",
      "\n",
      "=============INITIAL STATE [0, 1, 0, 0] =============\n",
      "\n",
      "[0, 1, 0, 0] => [0, 0, 1, 0] => [1, 1, 0, 1] => Nous avons un cycle [0, 0, 1, 0] => [1, 1, 0, 1] => [0, 0, 1, 0]\n",
      "\n",
      "=============INITIAL STATE [0, 1, 0, 1] =============\n",
      "\n",
      "[0, 1, 0, 1] => [0, 0, 1, 0] => [1, 1, 0, 1] => Nous avons un cycle [0, 0, 1, 0] => [1, 1, 0, 1] => [0, 0, 1, 0]\n",
      "\n",
      "=============INITIAL STATE [0, 1, 1, 0] =============\n",
      "\n",
      "[0, 1, 1, 0] => Etat stable [0, 1, 1, 0] \n",
      "\n",
      "=============INITIAL STATE [0, 1, 1, 1] =============\n",
      "\n",
      "[0, 1, 1, 1] => [1, 0, 1, 0] => [1, 0, 1, 1] => Etat stable [1, 0, 1, 1] \n",
      "\n",
      "=============INITIAL STATE [1, 0, 0, 0] =============\n",
      "\n",
      "[1, 0, 0, 0] => [0, 0, 1, 1] => [1, 0, 1, 1] => Etat stable [1, 0, 1, 1] \n",
      "\n",
      "=============INITIAL STATE [1, 0, 0, 1] =============\n",
      "\n",
      "[1, 0, 0, 1] => [1, 0, 1, 1] => Etat stable [1, 0, 1, 1] \n",
      "\n",
      "=============INITIAL STATE [1, 0, 1, 0] =============\n",
      "\n",
      "[1, 0, 1, 0] => [1, 0, 1, 1] => Etat stable [1, 0, 1, 1] \n",
      "\n",
      "=============INITIAL STATE [1, 0, 1, 1] =============\n",
      "\n",
      "[1, 0, 1, 1] => Etat stable [1, 0, 1, 1] \n",
      "\n",
      "=============INITIAL STATE [1, 1, 0, 0] =============\n",
      "\n",
      "[1, 1, 0, 0] => [0, 0, 1, 0] => [1, 1, 0, 1] => Nous avons un cycle [0, 0, 1, 0] => [1, 1, 0, 1] => [0, 0, 1, 0]\n",
      "\n",
      "=============INITIAL STATE [1, 1, 0, 1] =============\n",
      "\n",
      "[1, 1, 0, 1] => [0, 0, 1, 0] => Nous avons un cycle [1, 1, 0, 1] => [0, 0, 1, 0] => [1, 1, 0, 1]\n",
      "\n",
      "=============INITIAL STATE [1, 1, 1, 0] =============\n",
      "\n",
      "[1, 1, 1, 0] => [0, 0, 1, 1] => [1, 0, 1, 1] => Etat stable [1, 0, 1, 1] \n",
      "\n",
      "=============INITIAL STATE [1, 1, 1, 1] =============\n",
      "\n",
      "[1, 1, 1, 1] => [1, 0, 1, 1] => Etat stable [1, 0, 1, 1] \n",
      "\n"
     ]
    }
   ],
   "source": [
    "for state in states:\n",
    "    reseau_recurent.evolution(state,synchrone=True)"
   ]
  },
  {
   "cell_type": "code",
   "execution_count": 26,
   "metadata": {},
   "outputs": [
    {
     "name": "stdout",
     "output_type": "stream",
     "text": [
      "=============INITIAL STATE [0, 0, 0, 0] =============\n",
      "\n",
      "[0, 0, 0, 0] => Etat stable [0, 0, 0, 0] \n",
      "\n",
      "=============INITIAL STATE [0, 0, 0, 1] =============\n",
      "\n",
      "[0, 0, 0, 1] => [1, 0, 1, 1] => Etat stable [1, 0, 1, 1] \n",
      "\n",
      "=============INITIAL STATE [0, 0, 1, 0] =============\n",
      "\n",
      "[0, 0, 1, 0] => [1, 0, 1, 1] => Etat stable [1, 0, 1, 1] \n",
      "\n",
      "=============INITIAL STATE [0, 0, 1, 1] =============\n",
      "\n",
      "[0, 0, 1, 1] => [1, 0, 1, 1] => Etat stable [1, 0, 1, 1] \n",
      "\n",
      "=============INITIAL STATE [0, 1, 0, 0] =============\n",
      "\n",
      "[0, 1, 0, 0] => [0, 0, 0, 0] => Etat stable [0, 0, 0, 0] \n",
      "\n",
      "=============INITIAL STATE [0, 1, 0, 1] =============\n",
      "\n",
      "[0, 1, 0, 1] => [0, 0, 1, 1] => Etat stable [1, 0, 1, 1] \n",
      "\n",
      "=============INITIAL STATE [0, 1, 1, 0] =============\n",
      "\n",
      "[0, 1, 1, 0] => Etat stable [0, 1, 1, 0] \n",
      "\n",
      "=============INITIAL STATE [0, 1, 1, 1] =============\n",
      "\n",
      "[0, 1, 1, 1] => [1, 0, 1, 1] => Etat stable [1, 0, 1, 1] \n",
      "\n",
      "=============INITIAL STATE [1, 0, 0, 0] =============\n",
      "\n",
      "[1, 0, 0, 0] => [0, 0, 0, 0] => Etat stable [0, 0, 0, 0] \n",
      "\n",
      "=============INITIAL STATE [1, 0, 0, 1] =============\n",
      "\n",
      "[1, 0, 0, 1] => [1, 0, 1, 1] => Etat stable [1, 0, 1, 1] \n",
      "\n",
      "=============INITIAL STATE [1, 0, 1, 0] =============\n",
      "\n",
      "[1, 0, 1, 0] => [1, 0, 1, 1] => Etat stable [1, 0, 1, 1] \n",
      "\n",
      "=============INITIAL STATE [1, 0, 1, 1] =============\n",
      "\n",
      "[1, 0, 1, 1] => Etat stable [1, 0, 1, 1] \n",
      "\n",
      "=============INITIAL STATE [1, 1, 0, 0] =============\n",
      "\n",
      "[1, 1, 0, 0] => [0, 0, 0, 0] => Etat stable [0, 0, 0, 0] \n",
      "\n",
      "=============INITIAL STATE [1, 1, 0, 1] =============\n",
      "\n",
      "[1, 1, 0, 1] => [0, 0, 1, 1] => Etat stable [1, 0, 1, 1] \n",
      "\n",
      "=============INITIAL STATE [1, 1, 1, 0] =============\n",
      "\n",
      "[1, 1, 1, 0] => [0, 1, 1, 0] => Etat stable [0, 1, 1, 0] \n",
      "\n",
      "=============INITIAL STATE [1, 1, 1, 1] =============\n",
      "\n",
      "[1, 1, 1, 1] => [1, 0, 1, 1] => Etat stable [1, 0, 1, 1] \n",
      "\n"
     ]
    }
   ],
   "source": [
    "for state in states:\n",
    "        reseau_recurent.evolution(state,synchrone=False)"
   ]
  },
  {
   "cell_type": "markdown",
   "metadata": {},
   "source": [
    "#### **ANALYSE DES ÉTATS STABLES ET CYCLES SUR UN PLUS GRAND RÉSEAU**"
   ]
  },
  {
   "cell_type": "code",
   "execution_count": 29,
   "metadata": {},
   "outputs": [
    {
     "name": "stdout",
     "output_type": "stream",
     "text": [
      "=============INITIAL STATE [1, 1, 0, 1, 0, 0, 0, 1, 1, 1] =============\n",
      "\n",
      "[1, 1, 0, 1, 0, 0, 0, 1, 1, 1] => [1, 1, 0, 1, 0, 0, 1, 0, 0, 0] => [1, 1, 0, 1, 0, 0, 1, 0, 1, 0] => [1, 1, 0, 0, 0, 0, 1, 0, 1, 0] => Etat stable [1, 1, 0, 0, 0, 0, 1, 0, 1, 0] \n",
      "\n"
     ]
    }
   ],
   "source": [
    "# La matrice de poids (10*10) symétrique et aléatoire \n",
    "# On crée une matrice 10*10 rempli de 1 et -1 aléatoirement \n",
    "matrice10 = random.choice([-1,1],size=(10,10))\n",
    "# On garde son triangle supérieur\n",
    "matrice10 = triu(matrice10,1)\n",
    "# On lui ajoute sa transposée \n",
    "matrice10 += matrice10.T\n",
    "matrice10\n",
    "# Notre réseau récurrent de 10 cellules \n",
    "reseau_reccurent10 = ReseauRecurrent(matrice=matrice10)\n",
    "reseau_reccurent10.evolution([random.choice([0,1]) for _ in range(10)])"
   ]
  }
 ],
 "metadata": {
  "kernelspec": {
   "display_name": "Python 3",
   "language": "python",
   "name": "python3"
  },
  "language_info": {
   "codemirror_mode": {
    "name": "ipython",
    "version": 3
   },
   "file_extension": ".py",
   "mimetype": "text/x-python",
   "name": "python",
   "nbconvert_exporter": "python",
   "pygments_lexer": "ipython3",
   "version": "3.12.1"
  }
 },
 "nbformat": 4,
 "nbformat_minor": 2
}
